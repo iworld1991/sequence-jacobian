{
 "cells": [
  {
   "cell_type": "markdown",
   "metadata": {},
   "source": [
    "# Tutorial 2: The Krusell-Smith model\n",
    "\n",
    "In this notebook we solve the Krusell-Smith model from Auclert, Bardóczy, Rognlie, Straub (2021): \"Using the Sequence-Space Jacobian to Solve and Estimate Heterogeneous-Agent Models\" ([link to paper](https://www.bencebardoczy.com/publication/sequence-jacobian/sequence-jacobian.pdf)).\n",
    "\n",
    "New concepts:\n",
    "- **HA block**: represent heterogeneous agents at micro and macro level\n",
    "- **Unwrap GE Jacobians**: insights from step-by-step, manual construction\n",
    "- **Estimation**: from impulse responses to likelihood  \n",
    "\n",
    "For more examples and information on the SSJ toolkit, please visit our [GitHub page](https://github.com/shade-econ/sequence-jacobian)."
   ]
  },
  {
   "cell_type": "code",
   "execution_count": 1,
   "metadata": {},
   "outputs": [],
   "source": [
    "import copy\n",
    "import numpy as np\n",
    "import matplotlib.pyplot as plt\n",
    "\n",
    "from sequence_jacobian import het, simple, create_model              # functions\n",
    "from sequence_jacobian import interpolate, grids, misc, estimation   # modules"
   ]
  },
  {
   "cell_type": "markdown",
   "metadata": {},
   "source": [
    "## 1 Model description\n",
    "The model can be written in sequence space as\n",
    "$$\n",
    "\\textbf{F}_t(\\textbf{X}, Z) \\equiv \n",
    "\\begin{pmatrix}\n",
    "Y_t - Z_t K_{t-1}^\\alpha L_t^{1-\\alpha}\n",
    "\\\\\n",
    "r_t + \\delta - \\alpha Z_t \\left(\\frac{K_{t-1}}{L_t}\\right)^{\\alpha-1} \n",
    "\\\\\n",
    "w_t - (1-\\alpha) Z_t \\left(\\frac{K_{t-1}}{L_t}\\right)^{\\alpha}\n",
    "\\\\\n",
    "L_t - \\sum_e \\pi(e) e\n",
    "\\\\\n",
    "\\mathcal{K}_t(\\{r_s, w_s\\}) - K_t\n",
    "\\end{pmatrix}\n",
    "= \\begin{pmatrix}  0 \\\\ 0 \\\\ 0 \\\\ 0 \\\\ 0\\end{pmatrix},\n",
    "\\qquad t = 0, 1, \\dots\n",
    "$$\n",
    "\n",
    "where the (aggregate) endogenous variables are $\\textbf{X} = (Y, K, L, r, w)$ and the only exogenous variable is $Z$. Let's normalize $\\sum_e \\pi(e) e = 1$ without loss of generality.\n",
    "\n",
    "The capital function $\\mathcal{K}$ follows from the household block characterized by the Bellman equation\n",
    "$$\n",
    "\\begin{align*}\n",
    "V_t(e, k_{-}) = \\max_{c, k} &\\left\\{\\frac{c^{1-\\sigma}}{1-\\sigma} + \\beta \\mathbb{E}_t\\left[V_{t+1}(e', k)|e \\right] \\right\\}\n",
    "\\\\\n",
    "c + k &= (1 + r_t)k_{-} + w_t e \n",
    "\\\\\n",
    "k &\\geq 0\n",
    "\\end{align*}\n",
    "$$\n",
    "\n",
    "We can represent this model as a Directed Acyclic Graph (DAG) in just one unknown $K$ and one target, asset market clearing. That is, we can write it as\n",
    "$$\n",
    "H_t(K, Z) \\equiv \\mathcal{K}_t\\left(\\left\\{\\alpha Z_s K_{s-1}^{\\alpha-1} - \\delta, (1-\\alpha) Z_s K_{s-1}^{\\alpha}\\right\\}\\right) - K_t = 0\n",
    "$$"
   ]
  },
  {
   "cell_type": "markdown",
   "metadata": {},
   "source": [
    "## 2 Set up heterogeneous-agent block\n",
    "\n",
    "Solving a HA problem consists of 3 distinct steps.\n",
    "1. **backward iteration**: solve for individual policy functions\n",
    "2. **forward iteration**: solve for distribution\n",
    "3. **aggregation**: obtain macro outcomes\n",
    "   \n",
    "Backward iteration is model specific, and requires careful consideration. Forward iteration is fairly mechanical. It depends only on the number and type (discrete or continuous) state variables. Aggregation is completely mechanical. As such, we ask users only to provide a recipe for backward iteration. Forward iteration and aggregation is handled automatically. \n",
    "\n",
    "So, the main task is to write a **backward step function** that represents the Bellman equation. This has to be a single step of an iterative solution method such as value function iteration that solves for optimal policy on a grid. For the standard income fluctuation problem we're dealing with here, the endogenous gridpoint method (EGM) of [Carroll (2006)](https://www.sciencedirect.com/science/article/pii/S0165176505003368) is the best practice.\n",
    "- Formally, we need to write a function that maps the expected value of a \"backward variable\" tomorrow into the \"backward variable\" today, on the same grid. In the EGM, the backward variable is the partial of the value function with respect to assets, thus the backward step function is $f: \\mathbb{E}\\left[\\partial_k V(e', k)\\right|e] \\to \\partial_k V(e, k_{-}).$\n",
    "\n",
    "Once we have the backward step function, we can use the decorator `@het` to turn it into an instance of HetBlock. All we have to do is specify:\n",
    "- `exogenous`: name of the transition matrix for discrete exogenous state(s) (one or more, in forward order)\n",
    "- `policy`: name of policy corresponding to the continuous endogenous state(s) (one or two)\n",
    "- `backward`: name of backward variable(s) on which we're iterating (here the first derivative `Va` of the value function with respect to assets)\n",
    "- `backward_init`: a function that initializes a guess for the backward variable "
   ]
  },
  {
   "cell_type": "code",
   "execution_count": 2,
   "metadata": {},
   "outputs": [],
   "source": [
    "def household_init(a_grid, e_grid, r, w, eis):\n",
    "    coh = (1 + r) * a_grid[np.newaxis, :] + w * e_grid[:, np.newaxis]\n",
    "    Va = (1 + r) * (0.1 * coh) ** (-1 / eis)\n",
    "    return Va\n",
    "\n",
    "@het(exogenous='Pi', policy='a', backward='Va', backward_init=household_init)\n",
    "def household(Va_p, a_grid, e_grid, r, w, beta, eis):\n",
    "    \"\"\"Single backward iteration step using endogenous gridpoint method for households with CRRA utility.\n",
    "\n",
    "    Parameters\n",
    "    ----------\n",
    "    Va_p     : array (nE, nA), expected marginal value of assets next period\n",
    "    a_grid   : array (nA), asset grid\n",
    "    e_grid   : array (nE), producticity grid\n",
    "    r        : scalar, ex-post real interest rate\n",
    "    w        : scalar, wage\n",
    "    beta     : scalar, discount factor\n",
    "    eis      : scalar, elasticity of intertemporal substitution\n",
    "\n",
    "    Returns\n",
    "    ----------\n",
    "    Va : array (nE, nA), marginal value of assets today\n",
    "    a  : array (nE, nA), asset policy today\n",
    "    c  : array (nE, nA), consumption policy today\n",
    "    \"\"\"\n",
    "    uc_nextgrid = beta * Va_p\n",
    "    c_nextgrid = uc_nextgrid ** (-eis)\n",
    "    coh = (1 + r) * a_grid[np.newaxis, :] + w * e_grid[:, np.newaxis]\n",
    "    a = interpolate.interpolate_y(c_nextgrid + a_grid, coh, a_grid)\n",
    "    misc.setmin(a, a_grid[0])\n",
    "    c = coh - a\n",
    "    Va = (1 + r) * c ** (-1 / eis)\n",
    "    return Va, a, c"
   ]
  },
  {
   "cell_type": "markdown",
   "metadata": {},
   "source": [
    "Recall that every block (including HA blocks) represent a function in sequence space. HA blocks are special in that they have macro outputs (aggregates) but also micro outputs (distribution, policy functions)."
   ]
  },
  {
   "cell_type": "code",
   "execution_count": 3,
   "metadata": {},
   "outputs": [
    {
     "name": "stdout",
     "output_type": "stream",
     "text": [
      "<HetBlock 'household'>\n",
      "Inputs: ['a_grid', 'e_grid', 'r', 'w', 'beta', 'eis', 'Pi']\n",
      "Macro outputs: ['A', 'C']\n",
      "Micro outputs: ['D', 'Dbeg', 'Pi', 'Va', 'a', 'c']\n"
     ]
    }
   ],
   "source": [
    "print(household)\n",
    "print(f'Inputs: {household.inputs}')\n",
    "print(f'Macro outputs: {household.outputs}')\n",
    "print(f'Micro outputs: {household.internals}')"
   ]
  },
  {
   "cell_type": "markdown",
   "metadata": {},
   "source": [
    "The inputs of the `household` block include scalars (`w`, `r`, `eis`, `beta`) and arrays (`a_grid`, `e_grid`, `Pi`). A key assumption of the SSJ method is that blocks are only connected via scalars (scalar sequences). This ensures that all blocks have compatible Jacobians that can be accumulated along the DAG. Multidimensional inputs should be thought of as **internal** to a specific HetBlock. \n",
    "\n",
    "This convention is facilitated by `hetinput` and `hetoutput` functions. These are regular Python functions that we can attach to a HetBlock. The purpose of hetinputs is to map scalars (from outside the block) into the multidimensional inputs that the block needs. The purpose of hetoutputs is to map multidimensional outputs of the block (e.g. `a`, `c`) into new multidimensional outputs of interest. Think of it as follows. A HetBlock is evaluated in 3 steps.\n",
    "1. evaluate hetinputs; obtain multidimensional inputs\n",
    "2. evaluate core block (backward iteration); obtain policy functions\n",
    "3. evaluate hetoutputs; obtain other outputs of interest\n",
    "\n",
    "A single HetBlock may have zero or multiple `hetinputs` and `hetoutputs`. Moreover, hetinputs are allowed to depend on each other in an acyclic fashion. Same for hetoutputs.  "
   ]
  },
  {
   "cell_type": "markdown",
   "metadata": {},
   "source": [
    "Continuing with our example, let's attach a hetinput function that creates the grid. Notice that `household_ext` does not have multidimensional inputs anymore. It knows how to make them internally, by calling `make_grid`. "
   ]
  },
  {
   "cell_type": "code",
   "execution_count": 4,
   "metadata": {},
   "outputs": [
    {
     "name": "stdout",
     "output_type": "stream",
     "text": [
      "<HetBlock 'household' with hetinput 'make_grid'>\n",
      "Inputs: ['r', 'w', 'beta', 'eis', 'rho_e', 'sd_e', 'nE', 'amin', 'amax', 'nA']\n"
     ]
    }
   ],
   "source": [
    "def make_grid(rho_e, sd_e, nE, amin, amax, nA):\n",
    "    e_grid, _, Pi = grids.markov_rouwenhorst(rho=rho_e, sigma=sd_e, N=nE)\n",
    "    a_grid = grids.agrid(amin=amin, amax=amax, n=nA)\n",
    "    return e_grid, Pi, a_grid\n",
    "\n",
    "\n",
    "household_ext = household.add_hetinputs([make_grid])\n",
    "\n",
    "print(household_ext)\n",
    "print(f'Inputs: {household_ext.inputs}')"
   ]
  },
  {
   "cell_type": "markdown",
   "metadata": {},
   "source": [
    "- The household block above is a special case of the generic \"standard incomplete markets model\" that we included with the toolkit in `sequence_jacobian/examples/hetblocks/household_sim.py`. \n",
    "- The rest of the blocks that constitute the Krusell-Smith model are listed below but can also be found in `sequence_jacobian/examples/krusell_smith.py`."
   ]
  },
  {
   "cell_type": "code",
   "execution_count": 5,
   "metadata": {},
   "outputs": [],
   "source": [
    "@simple\n",
    "def firm(K, L, Z, alpha, delta):\n",
    "    r = alpha * Z * (K(-1) / L) ** (alpha-1) - delta\n",
    "    w = (1 - alpha) * Z * (K(-1) / L) ** alpha\n",
    "    Y = Z * K(-1) ** alpha * L ** (1 - alpha)\n",
    "    return r, w, Y\n",
    "\n",
    "\n",
    "@simple\n",
    "def mkt_clearing(K, A, Y, C, delta):\n",
    "    asset_mkt = A - K\n",
    "    goods_mkt = Y - C - delta * K\n",
    "    return asset_mkt, goods_mkt"
   ]
  },
  {
   "cell_type": "markdown",
   "metadata": {},
   "source": [
    "Let's put the model together."
   ]
  },
  {
   "cell_type": "code",
   "execution_count": 6,
   "metadata": {},
   "outputs": [
    {
     "name": "stdout",
     "output_type": "stream",
     "text": [
      "['beta', 'eis', 'rho_e', 'sd_e', 'nE', 'amin', 'amax', 'nA', 'K', 'L', 'Z', 'alpha', 'delta']\n"
     ]
    }
   ],
   "source": [
    "ks = create_model([household_ext, firm, mkt_clearing], name=\"Krusell-Smith\")\n",
    "print(ks.inputs)"
   ]
  },
  {
   "cell_type": "markdown",
   "metadata": {},
   "source": [
    "## 3 Calibrating the steady state\n",
    "Next, we calibrate the model in general equilibrium. The calibration exercise amounts to finding the right discount factor $\\beta$ to hit a targeted interest rate conditional on all the other exogenous parameters. We use Brent's method, an efficient way to solve for a root on an interval, from the `scipy.optimize` package to do so.\n",
    "\n",
    "Although additional efficiency gains would be possible here (for instance, by updating our initial guesses for policy and distribution along the way), we will not implement them, since they are not our focus here.\n",
    "\n",
    "Our default values depart slightly from the canonical Krusell-Smith calibration, mainly by assuming a 7-state income process and a lower capital share. More risk increases the precautionary savings motive, while less capital limits the ability to self-insure. These changes lead to higher MPCs and less RA-like behavior."
   ]
  },
  {
   "cell_type": "code",
   "execution_count": 7,
   "metadata": {},
   "outputs": [
    {
     "name": "stdout",
     "output_type": "stream",
     "text": [
      "<SteadyStateDict: ['eis', 'delta', 'alpha', 'rho_e', 'sd_e', 'L', 'nE', 'nA', 'amin', 'amax', 'beta', 'Z', 'K', 'r', 'w', 'Y', 'A', 'C', 'asset_mkt', 'goods_mkt'], internals=['household']>\n"
     ]
    }
   ],
   "source": [
    "calibration = {'eis': 1, 'delta': 0.025, 'alpha': 0.11, 'rho_e': 0.966, 'sd_e': 0.5, 'L': 1.0,\n",
    "               'nE': 7, 'nA': 500, 'amin': 0, 'amax': 200}\n",
    "unknowns_ss = {'beta': 0.98, 'Z': 0.85, 'K': 3.}\n",
    "targets_ss = {'r': 0.01, 'Y': 1., 'asset_mkt': 0.}\n",
    "\n",
    "ss = ks.solve_steady_state(calibration, unknowns_ss, targets_ss, solver='hybr')\n",
    "\n",
    "print(ss)"
   ]
  },
  {
   "cell_type": "markdown",
   "metadata": {},
   "source": [
    "Let's inspect the steady state.\n",
    "- the `solve_steady_state` method returned a `SteadyStateDict` object.\n",
    "- `ss` stores variables in two levels: *top* and *internal*\n",
    "- the top level contains scalars, which are accessible for all blocks of the model\n",
    "- the internal level contains block-specific multidimensional variables"
   ]
  },
  {
   "cell_type": "markdown",
   "metadata": {},
   "source": [
    "\n",
    "\n",
    "Let's plot the consumption policy function for all skill types  as a function of assets."
   ]
  },
  {
   "cell_type": "code",
   "execution_count": 8,
   "metadata": {
    "scrolled": false
   },
   "outputs": [
    {
     "data": {
      "image/png": "[encoded data removed]",
      "text/plain": [
       "<Figure size 432x288 with 1 Axes>"
      ]
     },
     "metadata": {
      "needs_background": "light"
     },
     "output_type": "display_data"
    }
   ],
   "source": [
    "plt.plot(ss.internals['household']['a_grid'], ss.internals['household']['c'].T)\n",
    "plt.xlabel('Assets'), plt.ylabel('Consumption')\n",
    "plt.show()"
   ]
  },
  {
   "cell_type": "markdown",
   "metadata": {},
   "source": [
    "### Speed of steady-state solution\n",
    "Our backward and forward iterations use Numba, [a just-in-time compilation library](https://numba.pydata.org/numba-doc/dev/user/5minguide.html) that translates pure numerical Python to fast machine code. The first time functions are run, there is some compilation lag, similar to (but much less time-consuming than) compilation time in languages like C++, Fortran, and Julia.\n",
    "\n",
    "Now that we have run everything once, we can time our steady-state calibration routine. An efficient steady state is not the focus of this notebook or our methods, but it is nice to see that performance is still quite good:"
   ]
  },
  {
   "cell_type": "code",
   "execution_count": 9,
   "metadata": {},
   "outputs": [
    {
     "name": "stdout",
     "output_type": "stream",
     "text": [
      "Wall time: 886 ms\n"
     ]
    }
   ],
   "source": [
    "%time ss = ks.solve_steady_state(calibration, unknowns_ss, targets_ss, solver=\"hybr\")"
   ]
  },
  {
   "cell_type": "markdown",
   "metadata": {},
   "source": [
    "Indeed, this simple example is so fast that increasing the number of asset gridpoints from 500 to 2000, and thus the total number of states from $7 \\times 500=3500$ to $7 \\times 2000 = 14000,$ increases computation time by less than a factor of four."
   ]
  },
  {
   "cell_type": "code",
   "execution_count": 10,
   "metadata": {},
   "outputs": [
    {
     "name": "stdout",
     "output_type": "stream",
     "text": [
      "Wall time: 1.63 s\n"
     ]
    }
   ],
   "source": [
    "calibration_highA = {**calibration, **{\"nA\": 2000}}\n",
    "\n",
    "%time _ = ks.solve_steady_state(calibration_highA, unknowns_ss, targets_ss, solver=\"hybr\")"
   ]
  },
  {
   "cell_type": "markdown",
   "metadata": {},
   "source": [
    "## 4 Jacobians\n",
    "Jacobians are the key concept to solve and to estimate models in sequence space. Each model block has its own Jacobians, which can be combined via the chain rule into Jacobians for the complete model. A Jacobian in a $T$-dimensional (truncated) sequence space is a $T \\times T$ matrix of the form\n",
    "\n",
    "$$\n",
    "\\frac{d Y}{d X} = \n",
    "\\begin{pmatrix}\n",
    "\\frac{d Y_0}{d X_0} & \\frac{d Y_0}{d X_1} & \\dots & \\frac{d Y_0}{d X_{T-1}} \\\\\n",
    "\\vdots & \\vdots & \\ddots & \\vdots \\\\\n",
    "\\frac{d Y_{T-1}}{d X_0} & \\frac{d Y_{T-1}}{d X_1} & \\dots & \\frac{d Y_{T-1}}{d X_{T-1}}\n",
    "\\end{pmatrix}\n",
    "$$\n",
    "\n",
    "evaluated at the steady state. Every column can be interpreted as the impulse response to a one-period news shock.\n",
    "\n",
    "### 4.1 Simple blocks\n",
    "To build intuition, let's start with the firm block we instantiated above. In our code, simple blocks are specified as regular Python functions with the added decorator ``@simple``. In the body of the function, we directly implement the corresponding equilibrium conditions. The decorator turns the function into an instance of ``SimpleBlock``, a class that, among other things, knows how to handle time displacements such as `K(-1)` to denote 1-period lags and `r(+1)` to denote 1-period leads. In general, one can write (-s) and (+s) to denote s-period lags and leads."
   ]
  },
  {
   "cell_type": "markdown",
   "metadata": {},
   "source": [
    "Blocks can compute their Jacobians by the `jacobian` method. This takes in the `SteadyStateDict` object returned by the `solve_steady_state` method and two optional inputs: the truncation horizon and list of variables to differentiate with respect to. It returns the Jacobians in a nested dict, where the first level is the output variable $Y$ and the second level is the input variable $X$."
   ]
  },
  {
   "cell_type": "code",
   "execution_count": 11,
   "metadata": {},
   "outputs": [
    {
     "name": "stdout",
     "output_type": "stream",
     "text": [
      "<JacobianDict outputs=['r', 'w', 'Y'], inputs=['K', 'Z']>\n"
     ]
    }
   ],
   "source": [
    "J_firm = firm.jacobian(ss, inputs=['K', 'Z'])\n",
    "\n",
    "print(J_firm)"
   ]
  },
  {
   "cell_type": "markdown",
   "metadata": {},
   "source": [
    "By default, `jacobian` compoutes the Jacobian for each input-output pair. In practice, it only makes sense to do so with respect to endogenous variables and shocks, hence the `inputs` option. In this model, capital and TFP are the only inputs that will ever change.\n",
    "\n",
    "The Jacobian is diagonal because the production function does not depend on leads or lags of productivity. Such sparsity is very common for simple blocks, and we wrote the SimpleBlock class to take full advantage of it. For example, if we leave the truncation parameter $T$ unspecified, which is recommended, `jacobian` returns a more efficient sparse representation of the Jacobian."
   ]
  },
  {
   "cell_type": "code",
   "execution_count": 12,
   "metadata": {},
   "outputs": [
    {
     "name": "stdout",
     "output_type": "stream",
     "text": [
      "[[1.13424196 0.         0.        ]\n",
      " [0.         1.13424196 0.        ]\n",
      " [0.         0.         1.13424196]]\n",
      "\n",
      "\n",
      "SimpleSparse({(0, 0): 1.134})\n"
     ]
    }
   ],
   "source": [
    "print(J_firm['Y']['Z'].matrix(3))\n",
    "print('\\n')\n",
    "print(J_firm['Y']['Z'])"
   ]
  },
  {
   "cell_type": "markdown",
   "metadata": {},
   "source": [
    "The output means that the only non-zero element is 1.134 along the main diagonal."
   ]
  },
  {
   "cell_type": "markdown",
   "metadata": {},
   "source": [
    "### 4.2 HA blocks\n",
    "HA blocks have more complicated Jacobians, but they have a regular structure that we can exploit to calculate them very quickly. For comprehensive coverage of our **fake news algorithm**, please see the paper.\n",
    "\n",
    "A `HetBlock` object has a `jacobian` method that is analogous to one above for `SimpleBlock` objects."
   ]
  },
  {
   "cell_type": "code",
   "execution_count": 13,
   "metadata": {
    "scrolled": true
   },
   "outputs": [
    {
     "name": "stdout",
     "output_type": "stream",
     "text": [
      "[[ 0.09578534 -0.68179015 -0.64119935 -0.60434415 -0.57057436]\n",
      " [ 0.09413756  0.13463153 -0.64841526 -0.61133486 -0.5771951 ]\n",
      " [ 0.09250592  0.12963223  0.16651934 -0.61980277 -0.58527967]\n",
      " [ 0.09087539  0.12509918  0.15952962  0.1938437  -0.59485549]\n",
      " [ 0.08926245  0.12116257  0.15312513  0.18541035  0.21770361]]\n"
     ]
    }
   ],
   "source": [
    "J_ha = household.jacobian(ss, inputs=['r', 'w'], T=5)\n",
    "print(J_ha['C']['r'])"
   ]
  },
  {
   "cell_type": "markdown",
   "metadata": {},
   "source": [
    "Notice that this matrix is no longer sparse. This generally the case for HA blocks. The Bellman equation implies that policies are forward-looking, and then aggregates are also backward-looking due to persistence coming via the distribution.\n",
    "\n",
    "Our `SimpleSparse` Jacobian objects are conformable with standard `np.array` objects, so that we can easily combine the Jacobians of simple blocks and HA blocks. For example, the multiplication operator `@` maps any combination of SimpleSparse and `np.array` objects into `np.array` objects as in standard `np.array` matrix multiplication.   "
   ]
  },
  {
   "cell_type": "code",
   "execution_count": 14,
   "metadata": {
    "scrolled": false
   },
   "outputs": [
    {
     "name": "stdout",
     "output_type": "stream",
     "text": [
      "[[ 0.00380253 -0.02706602 -0.02545463 -0.02399154 -0.02265093]\n",
      " [ 0.00373712  0.00534467 -0.02574109 -0.02426906 -0.02291376]\n",
      " [ 0.00367234  0.0051462   0.00661056 -0.02460522 -0.02323471]\n",
      " [ 0.00360761  0.00496625  0.00633308  0.0076953  -0.02361485]\n",
      " [ 0.00354358  0.00480997  0.00607883  0.00736051  0.0086425 ]]\n"
     ]
    }
   ],
   "source": [
    "print(J_ha['C']['r'] @ J_firm['r']['Z'])"
   ]
  },
  {
   "cell_type": "markdown",
   "metadata": {},
   "source": [
    "## 5 Linearized dynamics using Jacobians\n",
    "Recall that we reduced the model to a single equation $H$\n",
    "\n",
    "$$\n",
    "H_t(K, Z) \\equiv \\mathcal{K}_t\\left(\\left\\{\\alpha Z_s K_{s-1}^{\\alpha-1} - \\delta, (1-\\alpha) Z_s K_{s-1}^{\\alpha}\\right\\}\\right) - K_t = 0.\n",
    "$$\n",
    "\n",
    "to be solved for $K$ given any $Z$.\n",
    "\n",
    "This is the composition of the household capital supply function $\\mathcal{K}$ with the interest rate $r(K_{t-1}, Z_t) = \\alpha Z_t K_{t-1}^{\\alpha-1} - \\delta$ and wage $w(K_{t-1}, Z_t) = (1-\\alpha) Z_t K_{t-1}^{\\alpha}$ functions.\n",
    "\n",
    "We will obtain a linear characterization of all impulse responses in two ways:\n",
    "- First, by duly following the notation and algebra of section 2.2 in the paper. This hands-on approach is transparent, but error-prone in all but the simplest cases.\n",
    "- Second, by leveraging the powerful convenience functions that we introduced in the RBC notebook, and further employ in the one-asset and two-asset HANK notebooks. Throughout this section, we'll use the steady state `ss` we've already solved for, and a 300-period truncation horizon."
   ]
  },
  {
   "cell_type": "markdown",
   "metadata": {},
   "source": [
    "### 5.1 Hands-on approach\n",
    "\n",
    "##### Step 1: For each block, obtain Jacobians of outputs with respect to inputs\n",
    "Here, we only have two blocks: the firm and household blocks. Getting these Jacobians is quite quick, even for the HA block."
   ]
  },
  {
   "cell_type": "code",
   "execution_count": 15,
   "metadata": {
    "scrolled": true
   },
   "outputs": [],
   "source": [
    "# Import the JacobianDict class, since we are manually constructing Jacobians to demonstrate how the automatic construction\n",
    "# works in the code\n",
    "from sequence_jacobian.classes import JacobianDict\n",
    "\n",
    "# firm Jacobian: r and w as functions of K and Z\n",
    "J_firm = firm.jacobian(ss, inputs=['K', 'Z'])\n",
    "\n",
    "# household Jacobian: curlyK (called 'a' for assets by J_ha) as function of r and w\n",
    "T = 300\n",
    "J_ha = household.jacobian(ss, inputs=['r', 'w'], T=T)"
   ]
  },
  {
   "cell_type": "markdown",
   "metadata": {},
   "source": [
    "#### Step 2: Compose Jacobians along the DAG\n",
    "Here, we manually apply the chain rule to calculate the total Jacobians of household $\\mathcal{K}$ with respect to $K$ and $Z$, by composing the partial Jacobians `J_ha` (which maps $r$ and $w$ to $\\mathcal{K}$) and `J_firm` (which maps $K$ and $Z$ to $r$, $w$, and $Y$)."
   ]
  },
  {
   "cell_type": "code",
   "execution_count": 16,
   "metadata": {},
   "outputs": [],
   "source": [
    "J_curlyK_K = J_ha['A']['r'] @ J_firm['r']['K'] + J_ha['A']['w'] @ J_firm['w']['K']\n",
    "J_curlyK_Z = J_ha['A']['r'] @ J_firm['r']['Z'] + J_ha['A']['w'] @ J_firm['w']['Z']"
   ]
  },
  {
   "cell_type": "markdown",
   "metadata": {},
   "source": [
    "Now, we will combine `J_curlyK_K` and `J_curlyK_Z` with the firm Jacobians to get a single nested dict with the total Jacobians of everything with respect to $K$ and $Z$:"
   ]
  },
  {
   "cell_type": "code",
   "execution_count": 17,
   "metadata": {},
   "outputs": [],
   "source": [
    "J = copy.deepcopy(J_firm)\n",
    "J.update(JacobianDict({'curlyK': {'K' : J_curlyK_K, 'Z' : J_curlyK_Z}}))"
   ]
  },
  {
   "cell_type": "markdown",
   "metadata": {},
   "source": [
    "#### Step 3: Invert $H_K$ to obtain impulse response $dK=-H_K^{-1}H_ZdZ$\n",
    "Now we need to get the Jacobians of our equation $H(K,Z)$, which fully characterizes equilibrium, with respect to $K$ and $Z$. Once we have these, the implicit function theorem gives us the endogenous capital $dK=-H_K^{-1}H_ZdZ$ response to any exogenous shock $dZ$.\n",
    "\n",
    "Recall that $H$ equals household capital supply $\\mathcal{K}$ minus firm capital $K$, so that we can get the Jacobians almost immediately from what we have already calculated."
   ]
  },
  {
   "cell_type": "code",
   "execution_count": 18,
   "metadata": {},
   "outputs": [],
   "source": [
    "H_K = J['curlyK']['K'] - np.eye(T)\n",
    "H_Z = J['curlyK']['Z']"
   ]
  },
  {
   "cell_type": "markdown",
   "metadata": {},
   "source": [
    "We define $G_K \\equiv -H_K^{-1}H_Z$ to be the matrix mapping from any $dZ$ to the corresponding $dK$:"
   ]
  },
  {
   "cell_type": "code",
   "execution_count": 19,
   "metadata": {},
   "outputs": [],
   "source": [
    "G = {'K': -np.linalg.solve(H_K, H_Z)}"
   ]
  },
  {
   "cell_type": "markdown",
   "metadata": {},
   "source": [
    "#### Step 4: Get all other impulses\n",
    "In `J`, we have Jacobians of $r,w,Y$ with respect to both $Z$ and $K$. If there is a shock to $Z$, we can decompose the change in $r,w,Y$ into a \"direct\" effect from $dZ$ and an \"indirect\" effect from the induced change $dK$.\n",
    "\n",
    "We apply the chain rule to the latter to get matrices $G_r, G_w, G_Y$ mapping any $dZ$ to the corresponding $dr,dw,dY$:"
   ]
  },
  {
   "cell_type": "code",
   "execution_count": 20,
   "metadata": {},
   "outputs": [],
   "source": [
    "G['r'] = J['r']['Z'] + J['r']['K'] @ G['K']\n",
    "G['w'] = J['w']['Z'] + J['w']['K'] @ G['K']\n",
    "G['Y'] = J['Y']['Z'] + J['Y']['K'] @ G['K']"
   ]
  },
  {
   "cell_type": "markdown",
   "metadata": {},
   "source": [
    "The `G` dict characterizes the full linearized dynamics of aggregate variables $K, r, w, Y$ in response to *any* perturbation to $Z$.\n",
    "\n",
    "If we want the linearized dynamics of other variables, e.g. consumption, all we need is to get the Jacobian from the block in which these are calculated, and then compose it with the `G` of its inputs. It turns out that consumption was already reported in `J_ha`, so we just need to write:"
   ]
  },
  {
   "cell_type": "code",
   "execution_count": 21,
   "metadata": {},
   "outputs": [],
   "source": [
    "G['C'] = J_ha['C']['r'] @ G['r'] + J_ha['C']['w'] @ G['w']"
   ]
  },
  {
   "cell_type": "markdown",
   "metadata": {},
   "source": [
    "### 5.2 Convenient approach\n",
    "\n",
    "The DAG of the model contains sufficient information to automate this process. The only other things we need to know are the steady state around which to linearize, and the truncation horizon."
   ]
  },
  {
   "cell_type": "code",
   "execution_count": 22,
   "metadata": {},
   "outputs": [],
   "source": [
    "inputs = ['Z']\n",
    "unknowns = ['K']\n",
    "targets = ['asset_mkt']\n",
    "\n",
    "G2 = ks.solve_jacobian(ss, unknowns, targets, inputs, T=T)"
   ]
  },
  {
   "cell_type": "markdown",
   "metadata": {},
   "source": [
    "Let's verify that the two give the same answer up to high precision (`assert` throws an error if its argument evaluates to False)."
   ]
  },
  {
   "cell_type": "code",
   "execution_count": 23,
   "metadata": {},
   "outputs": [],
   "source": [
    "for o in G:\n",
    "    assert np.allclose(G2[o]['Z'], G[o])"
   ]
  },
  {
   "cell_type": "markdown",
   "metadata": {},
   "source": [
    "### 5.3 Results\n",
    "What do the impulse responses in this model look like? The beauty of our method is that, now that we have $G$, we can compute impulse responses to any shock almost instantaneously -- it's just matrix multiplication!\n",
    "\n",
    "Let's first consider shocks to $Z$ with different persistences, all normalized so that they have a 1% initial impact, and plot the interest rate response to each."
   ]
  },
  {
   "cell_type": "code",
   "execution_count": 24,
   "metadata": {
    "scrolled": true
   },
   "outputs": [
    {
     "data": {
      "image/png": "[encoded data removed]",
      "text/plain": [
       "<Figure size 432x288 with 1 Axes>"
      ]
     },
     "metadata": {
      "needs_background": "light"
     },
     "output_type": "display_data"
    }
   ],
   "source": [
    "rhos = np.array([0.2, 0.4, 0.6, 0.8, 0.9])\n",
    "dZ = 0.01 * ss['Z'] * rhos ** (np.arange(T)[:, np.newaxis]) # get T*5 matrix of dZ\n",
    "dr = G['r'] @ dZ\n",
    "\n",
    "plt.plot(10000*dr[:50, :])\n",
    "plt.title(r'$r$ response to 1% $Z$ shocks with $\\rho=(0.2 ... 0.9)$')\n",
    "plt.ylabel(r'basis points deviation from ss')\n",
    "plt.xlabel(r'quarters')\n",
    "plt.show()"
   ]
  },
  {
   "cell_type": "markdown",
   "metadata": {},
   "source": [
    "Now let's consider 10,000 different values of rho, for which we can still calculate all $r$ impulse responses almost instantaneously."
   ]
  },
  {
   "cell_type": "code",
   "execution_count": 25,
   "metadata": {
    "scrolled": true
   },
   "outputs": [
    {
     "name": "stdout",
     "output_type": "stream",
     "text": [
      "Wall time: 15 ms\n"
     ]
    }
   ],
   "source": [
    "rhos = np.linspace(0.1, 0.9, 10000)\n",
    "dZ = 0.01 * ss['Z'] * rhos ** (np.arange(T)[:, np.newaxis]) # get T*5 matrix of dZ\n",
    "%time dr = G['r'] @ dZ"
   ]
  },
  {
   "cell_type": "markdown",
   "metadata": {},
   "source": [
    "The time taken here differs from run to run, but in the current run (like all runs on a personal laptop) it takes less than 20 milliseconds of \"wall time\" to compute 10,000 impulse responses means that each impulse response takes less than **2 microseconds**. \"CPU time\" is slightly higher because mild parallelization on two cores is used by the built-in matrix multiplication implementation. By contrast, typical impulse response calculations in heterogeneous agent models in the literature take at least a minute, so this method is more than **30 million** times faster as a way of calculating individual impulse responses.\n",
    "\n",
    "Although this may seem like an extreme example, repeated calculations of this form are quite useful in the most computationally demanding applications, like estimation (as we will see later).\n",
    "\n",
    "Another important feature of our sequence space methodology is that it is easy to calculate the response to shocks that are difficult to cast into simple recursive form, like news shocks.\n",
    "\n",
    "For example, calculating the response to a news shock where $Z$ is expected to increase at a specific period in the future is trivial -- in fact, that's exactly what the columns of the $G$ matrix are. Below we plot the capital responses to news shocks of $Z$ increases at periods 5, 10, 15, 20, and 25."
   ]
  },
  {
   "cell_type": "code",
   "execution_count": 26,
   "metadata": {
    "scrolled": false
   },
   "outputs": [
    {
     "data": {
      "image/png": "[encoded data removed]",
      "text/plain": [
       "<Figure size 432x288 with 1 Axes>"
      ]
     },
     "metadata": {
      "needs_background": "light"
     },
     "output_type": "display_data"
    }
   ],
   "source": [
    "dZ = 0.01*(np.arange(T)[:, np.newaxis] == np.array([5, 10, 15, 20, 25]))\n",
    "dK = G['K'] @ dZ\n",
    "\n",
    "plt.plot(dK[:50])\n",
    "plt.title('$K$ response to 1% Z news shocks for $t=5,...,25$')\n",
    "plt.show()"
   ]
  },
  {
   "cell_type": "markdown",
   "metadata": {},
   "source": [
    "## 6 Estimation\n",
    "\n",
    "The roadmap for estimation is as follows:\n",
    " - impulse responses $\\implies$ second moments\n",
    " - second moments $\\implies$ log-likelihood\n",
    " \n",
    "In this notebook, we will simply use simulated data to show that the log-likelihood peaks close to the true value of the estimated parameter, the standard deviation of TFP shocks. \n",
    "\n",
    "### 6.1 Second moments \n",
    "Thanks to certainty equivalence, linear impulse responses can be interpreted as the $MA(\\infty)$ representation of the model. Then all we need is the second moments of the shocks to fully characterize the second moments of endogenous outcomes. This computation can be done in a highly efficient way, without any need for simulation.\n",
    "\n",
    "For concreteness, let's suppose that the TFP shocks $dZ$ in the Krusell-Smith model have a persistent and transitory component.\n",
    "\n",
    "$$\n",
    "\\begin{align*}\n",
    "dZ_t &= dZ^1_t + d Z_t^2\n",
    "\\\\\n",
    "dZ_t^1 &= \\rho d Z_{t-1}^1 + \\epsilon^1_t\n",
    "\\\\\n",
    "d Z_t^2 &= \\epsilon^2_t\n",
    "\\end{align*}\n",
    "$$\n",
    "\n",
    "where $\\epsilon^1$ and $\\epsilon^2$ are i.i.d. normal with mean zero and with variance $\\sigma^2_1$ and $\\sigma^2_2$. \n",
    "\n",
    "Let $m^{x, 1}$ and $m^{x,2}$ denote the (truncated) impulse responses of variable $X$ to these two structural shocks. Then we have an $MA(T-1)$ representation:\n",
    "\n",
    "$$\n",
    "X_t = \\sum_{z=1}^{2} \\sum_{s=0}^{T-1} m^{x,z}_s \\epsilon_{t-s}^z \n",
    "$$\n",
    "\n",
    "It follows that covariances between outcomes $Y$ and $X$ take the form\n",
    "\n",
    "$$\n",
    "\\text{Cov}(Y_t, X_{t+l})= \\sum_{z=1}^{2} \\sigma_z^2 \\sum_{s=0}^{T-1} m_s^{x,z} m_{s+l}^{y,z} \\tag{Cov}\n",
    "$$"
   ]
  },
  {
   "cell_type": "markdown",
   "metadata": {},
   "source": [
    "#### Step 1. Stacked impulse responses\n",
    "\n",
    "Given the $G$ matrix we calculated in section 4, this is just a matter of matrix multiplication:"
   ]
  },
  {
   "cell_type": "code",
   "execution_count": 27,
   "metadata": {},
   "outputs": [],
   "source": [
    "rho = 0.9\n",
    "sigma_persist = 0.1\n",
    "sigma_trans = 0.2\n",
    "\n",
    "dZ1 = rho**(np.arange(T))\n",
    "dY1, dC1, dK1 = G['Y'] @ dZ1, G['C'] @ dZ1, G['K'] @ dZ1\n",
    "dX1 = np.stack([dZ1, dY1, dC1, dK1], axis=1)\n",
    "\n",
    "dZ2 = np.arange(T) == 0\n",
    "dY2, dC2, dK2 = G['Y'] @ dZ2, G['C'] @ dZ2, G['K'] @ dZ2\n",
    "dX2 = np.stack([dZ2, dY2, dC2, dK2], axis=1)"
   ]
  },
  {
   "cell_type": "markdown",
   "metadata": {},
   "source": [
    "Let's stack all these to make a $T\\times 4 \\times 2$ array giving all impulse responses of the four outcomes to the two shocks:"
   ]
  },
  {
   "cell_type": "code",
   "execution_count": 28,
   "metadata": {
    "scrolled": false
   },
   "outputs": [
    {
     "data": {
      "text/plain": [
       "(300, 4, 2)"
      ]
     },
     "execution_count": 28,
     "metadata": {},
     "output_type": "execute_result"
    }
   ],
   "source": [
    "dX = np.stack([dX1, dX2], axis=2)\n",
    "dX.shape"
   ]
  },
  {
   "cell_type": "markdown",
   "metadata": {},
   "source": [
    "#### Step 2. Obtain covariance at all leads and lags\n",
    "\n",
    "The covariance formula above is implemented efficiently using the Fast Fourier Transform by the `all_covariances` function, which returns a $T\\times 4\\times 4$ array `Sigma`, where `Sigma[l, o1, o2]` gives the covariance for any $t$ between output `o1` at $t$ and output `o2` at $t+l$."
   ]
  },
  {
   "cell_type": "code",
   "execution_count": 29,
   "metadata": {
    "scrolled": false
   },
   "outputs": [
    {
     "name": "stdout",
     "output_type": "stream",
     "text": [
      "Wall time: 0 ns\n"
     ]
    }
   ],
   "source": [
    "sigmas = np.array([sigma_persist, sigma_trans])\n",
    "Sigma = estimation.all_covariances(dX, sigmas) # burn-in for jit\n",
    "%time Sigma = estimation.all_covariances(dX, sigmas)"
   ]
  },
  {
   "cell_type": "markdown",
   "metadata": {},
   "source": [
    "#### Visualizing correlations\n",
    "\n",
    "Let's turn the covariance matrix `Sigma` into a correlation matrix, by normalizing it with the standard deviation of each series:"
   ]
  },
  {
   "cell_type": "code",
   "execution_count": 30,
   "metadata": {
    "scrolled": true
   },
   "outputs": [],
   "source": [
    "sd = np.sqrt(np.diag(Sigma[0, ...]))\n",
    "correl = (Sigma/sd)/(sd[:, np.newaxis])"
   ]
  },
  {
   "cell_type": "markdown",
   "metadata": {},
   "source": [
    "Finally, let's plot $\\text{corr}(dZ_t,dZ_{t+l})$, $\\text{corr}(dZ_t,dY_{t+l})$, $\\text{corr}(dZ_t,dC_{t+l})$, and $\\text{corr}(dZ_t,dK_{t+l})$, for $l$ from $-50$ through $50$: the correlations of all series, at various lags, with the driving productivity process."
   ]
  },
  {
   "cell_type": "code",
   "execution_count": 31,
   "metadata": {
    "scrolled": false
   },
   "outputs": [
    {
     "data": {
      "image/png": "[encoded data removed]",
      "text/plain": [
       "<Figure size 432x288 with 1 Axes>"
      ]
     },
     "metadata": {
      "needs_background": "light"
     },
     "output_type": "display_data"
    }
   ],
   "source": [
    "ls = np.arange(-50, 51)\n",
    "corrs_l_positive = correl[:51, 0, :]\n",
    "corrs_l_negative = correl[50:0:-1, :, 0]\n",
    "corrs_combined = np.concatenate([corrs_l_negative, corrs_l_positive])\n",
    "\n",
    "plt.plot(ls, corrs_combined[:, 0], label='dZ')\n",
    "plt.plot(ls, corrs_combined[:, 1], label='dY')\n",
    "plt.plot(ls, corrs_combined[:, 2], label='dC')\n",
    "plt.plot(ls, corrs_combined[:, 3], label='dK')\n",
    "plt.legend()\n",
    "plt.title(r'Corr of $dZ_t$ and $X_{t+l}$ for various series $X$')\n",
    "plt.xlabel(r'Lag $l$')\n",
    "plt.show()"
   ]
  },
  {
   "cell_type": "markdown",
   "metadata": {},
   "source": [
    "Here we can see many features of the solution. First, $dY$ is extremely similar to $dZ$, except that it has a greater lagged response due to capital accumulation. Both $dZ$ and $dY$ have a large peak at $l=0$ corresponding to the transitory shock. $dC$ and $dK$, on the other hand, are both much smoother and tend to lag $dZ$, especially $dK$."
   ]
  },
  {
   "cell_type": "markdown",
   "metadata": {},
   "source": [
    "### 6.2 Log-likelihood\n",
    "\n",
    "Assuming the means of all series are zero (which is often imposed through some kind of preliminary demeaning or detrending procedure on the data), and that the shocks are multivariate normal, all we really need to evaluate the log-likelihood are the second moments and the data.\n",
    "\n",
    "Specifically, if our data observations are stacked in a vector $\\mathbf{y}$ and the covariances at all lags are stacked in a matrix $\\mathbf{V}$, then the log-likelihood is (up to a constant):\n",
    "\n",
    "$$\n",
    "\\mathcal{L} = -\\frac{1}{2}\\log(\\det(\\mathbf{V})) - \\frac{1}{2}\\mathbf{y}'\\mathbf{V}^{-1}\\mathbf{y} \\tag{log-likelihood}\n",
    "$$ \n",
    "\n",
    "Our code proceeds directly from the covariances `Sigma` at all lags returned by `all_covariances` in the last section, and the matrix of data series, implementing (log-likelihood) under the hood to calculate the log-likelihood."
   ]
  },
  {
   "cell_type": "code",
   "execution_count": 32,
   "metadata": {},
   "outputs": [
    {
     "name": "stdout",
     "output_type": "stream",
     "text": [
      "Wall time: 999 µs\n"
     ]
    },
    {
     "data": {
      "text/plain": [
       "-50403.98854011552"
      ]
     },
     "execution_count": 32,
     "metadata": {},
     "output_type": "execute_result"
    }
   ],
   "source": [
    "# random 100 observations\n",
    "Y = np.random.randn(100, 4)\n",
    "\n",
    "# 0.05 measurement error in each variable\n",
    "sigma_measurement = np.full(4, 0.05)\n",
    "\n",
    "# calculate log-likelihood\n",
    "estimation.log_likelihood(Y, Sigma, sigma_measurement)\n",
    "\n",
    "%time estimation.log_likelihood(Y, Sigma, sigma_measurement)"
   ]
  },
  {
   "cell_type": "markdown",
   "metadata": {},
   "source": [
    "### 6.3 Putting it together: calculating the likelihood in an example\n",
    "Continue to consider the shock process from section 5.1, where $dZ$ had one persistent component and one transitory component. Imagine that we do not know the persistence parameter $\\rho$ of the persistent component, nor do we know the relative variances of these two shocks or the variances of the measurement errors. Given some observed data $\\mathbf{w}$ with 100 observations of $dZ, dY, dC, dY$, what does the log-likelihood as a function of these parameters look like, and how do we compute it?\n",
    "\n",
    "We write the following function."
   ]
  },
  {
   "cell_type": "code",
   "execution_count": 33,
   "metadata": {},
   "outputs": [],
   "source": [
    "def log_likelihood_from_parameters(rho, sigma_persist, sigma_trans, sigma_measurement, Y):\n",
    "    # impulse response to persistent shock\n",
    "    dZ1 = rho**(np.arange(T))\n",
    "    dY1, dC1, dK1 = G['Y'] @ dZ1, G['C'] @ dZ1, G['K'] @ dZ1\n",
    "    dX1 = np.stack([dZ1, dY1, dC1, dK1], axis=1)\n",
    "    \n",
    "    # since transitory shock does not depend on any unknown parameters,\n",
    "    # except scale sigma_trans, we just reuse the dX2 already calculated earlier!\n",
    "    \n",
    "    # stack impulse responses together to make MA(T-1) representation 'M'\n",
    "    M = np.stack([dX1, dX2], axis=2)\n",
    "    \n",
    "    # calculate all covariances\n",
    "    Sigma = estimation.all_covariances(M, np.array([sigma_persist, sigma_trans]))\n",
    "    \n",
    "    # calculate log=likelihood from this\n",
    "    return estimation.log_likelihood(Y, Sigma, sigma_measurement)"
   ]
  },
  {
   "cell_type": "markdown",
   "metadata": {},
   "source": [
    "**Simulate sample data.** Now let's simulate more realistic series $w=\\{dZ, dY, dC, dK\\}$, assuming the same parameters as above, to see what evaluating the log-likelihood is like."
   ]
  },
  {
   "cell_type": "code",
   "execution_count": 34,
   "metadata": {},
   "outputs": [],
   "source": [
    "# stack covariances into matrix using helper function, then do a draw using NumPy routine\n",
    "V = estimation.build_full_covariance_matrix(Sigma, sigma_measurement, 100)\n",
    "Y = np.random.multivariate_normal(np.zeros(400), V).reshape((100, 4))"
   ]
  },
  {
   "cell_type": "markdown",
   "metadata": {},
   "source": [
    "Now let's plot the log-likelihood of $w$ as a function of the standard deviation of the persistent component (the true value of which is 0.1), given correct values for all other parameters. Note that evaluating the log-likelihood 100 times takes well below one second."
   ]
  },
  {
   "cell_type": "code",
   "execution_count": 35,
   "metadata": {
    "scrolled": true
   },
   "outputs": [
    {
     "name": "stdout",
     "output_type": "stream",
     "text": [
      "Wall time: 195 ms\n"
     ]
    }
   ],
   "source": [
    "sigma_persist_values = np.linspace(0.05, 0.2, 100)\n",
    "%time lls = np.array([log_likelihood_from_parameters(rho, sigma_persist, sigma_trans, sigma_measurement, Y) for sigma_persist in sigma_persist_values])"
   ]
  },
  {
   "cell_type": "code",
   "execution_count": 36,
   "metadata": {
    "scrolled": true
   },
   "outputs": [
    {
     "data": {
      "image/png": "[encoded data removed]",
      "text/plain": [
       "<Figure size 432x288 with 1 Axes>"
      ]
     },
     "metadata": {
      "needs_background": "light"
     },
     "output_type": "display_data"
    }
   ],
   "source": [
    "plt.plot(sigma_persist_values, lls)\n",
    "plt.axvline(0.1, linestyle=':', color='gray')\n",
    "plt.title(r'Log likelihood of simulated data as function of $\\sigma_{persist}$')\n",
    "plt.show()"
   ]
  },
  {
   "cell_type": "markdown",
   "metadata": {},
   "source": [
    "Reassuringly, the mode is near (although not exactly at, since we're simulating a finite sample with only 100 periods) the value of $\\sigma_{persist}=0.1$ with which the data was simulated!"
   ]
  },
  {
   "cell_type": "markdown",
   "metadata": {},
   "source": [
    "## 8 Nonlinear perfect foresight dynamics\n",
    "Linearized impulse responses are invariant to the sign and size of aggregate shocks by construction. Although this is not a problem for many applications, it is clearly a limitation. Here, we demonstrate that the Jacobian is also extremely useful in solving for nonlinear dynamics.\n",
    "\n",
    "Consider the case of an economy that starts at the steady state, and receives an unexpected shock at date 0. This is often called an \"MIT shock\". \n",
    "\n",
    "For a given shock $Z$, the solution is still characterized by the $K$ that solves $H(K,Z)=0$. Our algorithm to find this $K$, a simple variant of Newton's method, iterates on a sequence of guesses $K^j$ for the path of capital as follows:\n",
    "1. starting with $j=0$, guess a path $K^0$\n",
    "2. calculate $H(K^j, Z)$\n",
    "3. update the guess according to $$K^{j+1} = K^j - H_K(K_{ss}, Z_{ss})^{-1} H(K^j, Z)$$\n",
    "and return to step 2 for $j+1$\n",
    "\n",
    "The only difference between this and the standard Newton's method is that we use the Jacobian $H_K$ around the steady state (which we have already calculated), rather than the Jacobian around the current guess (which is somewhat more difficult to calculate). Still, this tends to achieve extremely fast convergence.\n",
    "\n",
    "Although iterative methods to solve for equilibrium in response to MIT shocks are quite common in the heterogeneous-agent literature, these methods generally use ad-hoc rules for updating the guess, which can be fragile and slow. In applications with no or limited heterogeneity (such as spender-saver models) where it is possible to calculate Jacobians easily, Newton's method has been used to provide faster and more robust convergence -- see, for instance, [Juillard (1996)](http://www.cepremap.fr/depot/couv_orange/co9602.pdf).\n",
    "\n",
    "But until now, this has not been applied to heterogeneous-agent models, since the Jacobian has been too difficult to calculate. The only partial applications to date, to our knowledge, are in [Auclert and Rognlie (2018)](http://web.stanford.edu/~aauclert/computational_appendix_inequad.pdf), which uses an auxiliary model to compute an approximate Jacobian, and in [Straub (2018)](https://scholar.harvard.edu/files/straub/files/jmp_straub_jan_2.pdf), which uses interpolation to compute an approximate Jacobian. In this paper, however, we have provided a highly efficient method to compute the *exact* Jacobian around the steady state for any heterogeneous-agent model, and can thus readily apply Newton's method."
   ]
  },
  {
   "cell_type": "markdown",
   "metadata": {},
   "source": [
    "### 8.1 Implementation\n",
    "\n",
    "Our quasi-Newton method can be implemented in two steps. First, build the nonlinear function $H(U, Z).$ Second, guess $U$ for a given $Z$ and iterate until convergence. We automatized both of these, so all we need to do is call the `solve_impulse_nonlinear` method for the `ks` object. We will also solve for the linearized dynamics using the `solve_impulse_linear` method for comparison. \n",
    "\n",
    "Note that both the shock and the results (in an `ImpulseDict` object) are expressed in deviations from ss."
   ]
  },
  {
   "cell_type": "code",
   "execution_count": 37,
   "metadata": {
    "scrolled": false
   },
   "outputs": [
    {
     "name": "stdout",
     "output_type": "stream",
     "text": [
      "Solving Krusell-Smith for ['K'] to hit ['asset_mkt']\n",
      "On iteration 0\n",
      "   max error for asset_mkt is 3.37E-02\n",
      "On iteration 1\n",
      "   max error for asset_mkt is 5.73E-05\n",
      "On iteration 2\n",
      "   max error for asset_mkt is 1.26E-07\n",
      "On iteration 3\n",
      "   max error for asset_mkt is 1.75E-10\n",
      "<ImpulseDict: ['Z', 'K', 'A', 'C', 'r', 'w', 'Y', 'asset_mkt', 'goods_mkt'], internals=['household']>\n"
     ]
    }
   ],
   "source": [
    "Z_shock_path = {\"Z\": 0.01*0.8**np.arange(T)}\n",
    "\n",
    "td_nonlin = ks.solve_impulse_nonlinear(ss, unknowns, targets, Z_shock_path)\n",
    "td_lin = ks.solve_impulse_linear(ss, unknowns, targets, Z_shock_path)\n",
    "\n",
    "print(td_nonlin)"
   ]
  },
  {
   "cell_type": "markdown",
   "metadata": {},
   "source": [
    "We see that this is quite quick, taking only 3 iterations after the initial guess to achieve high accuracy -- far fewer than typical ad-hoc updating rules, which can take hundreds or even thousands of iterations.\n",
    "\n",
    "Now let's compare to the results we'd get for the linearized impulse response, and plot the paths for the real interest rate $r$."
   ]
  },
  {
   "cell_type": "code",
   "execution_count": 38,
   "metadata": {
    "scrolled": true
   },
   "outputs": [
    {
     "data": {
      "image/png": "[encoded data removed]",
      "text/plain": [
       "<Figure size 432x288 with 1 Axes>"
      ]
     },
     "metadata": {
      "needs_background": "light"
     },
     "output_type": "display_data"
    }
   ],
   "source": [
    "dr_nonlin = 10000 * td_nonlin['r']\n",
    "dr_lin = 10000 * td_lin['r']\n",
    "\n",
    "plt.plot(dr_nonlin[:50], label='nonlinear', linewidth=2.5)\n",
    "plt.plot(dr_lin[:50], label='linear', linestyle='--', linewidth=2.5)\n",
    "plt.title(r'Interest rate response to a 1% TFP shock')\n",
    "plt.ylabel(r'bp deviation from ss')\n",
    "plt.xlabel(r'quarters')\n",
    "plt.legend()\n",
    "plt.show()"
   ]
  },
  {
   "cell_type": "markdown",
   "metadata": {},
   "source": [
    "There is no visible difference -- the first-order approximation is almost perfect here.\n",
    "\n",
    "If we increase the size of the productivity shock on impact to 10% (enormous!), we can begin to see small nonlinearities kick in, and the solution requires five iterations rather than three:"
   ]
  },
  {
   "cell_type": "code",
   "execution_count": 39,
   "metadata": {},
   "outputs": [
    {
     "name": "stdout",
     "output_type": "stream",
     "text": [
      "Solving Krusell-Smith for ['K'] to hit ['asset_mkt']\n",
      "On iteration 0\n",
      "   max error for asset_mkt is 3.47E-01\n",
      "On iteration 1\n",
      "   max error for asset_mkt is 5.22E-03\n",
      "On iteration 2\n",
      "   max error for asset_mkt is 1.16E-04\n",
      "On iteration 3\n",
      "   max error for asset_mkt is 1.69E-06\n",
      "On iteration 4\n",
      "   max error for asset_mkt is 1.13E-08\n",
      "On iteration 5\n",
      "   max error for asset_mkt is 2.95E-10\n"
     ]
    },
    {
     "data": {
      "image/png": "[encoded data removed]",
      "text/plain": [
       "<Figure size 432x288 with 1 Axes>"
      ]
     },
     "metadata": {
      "needs_background": "light"
     },
     "output_type": "display_data"
    }
   ],
   "source": [
    "big_Z_shock_path = {\"Z\": 0.1*0.8**np.arange(T)}\n",
    "\n",
    "td_nonlin = ks.solve_impulse_nonlinear(ss, unknowns, targets, big_Z_shock_path)\n",
    "td_lin = ks.solve_impulse_linear(ss, unknowns, targets, big_Z_shock_path)\n",
    "\n",
    "# extract interest rate response, scale to basis points\n",
    "dr_nonlin = 10000 * td_nonlin['r']\n",
    "dr_lin = 10000 * td_lin['r']\n",
    "\n",
    "plt.plot(dr_nonlin[:50], label='nonlinear', linewidth=2.5)\n",
    "plt.plot(dr_lin[:50], label='linear', linestyle='--', linewidth=2.5)\n",
    "plt.title(r'$r$ response to 10% $Z$ shock')\n",
    "plt.ylabel(r'bp deviation from ss')\n",
    "plt.xlabel(r'quarters')\n",
    "plt.legend()\n",
    "plt.show()"
   ]
  }
 ],
 "metadata": {
  "kernelspec": {
   "display_name": "Python 3 (ipykernel)",
   "language": "python",
   "name": "python3"
  },
  "language_info": {
   "codemirror_mode": {
    "name": "ipython",
    "version": 3
   },
   "file_extension": ".py",
   "mimetype": "text/x-python",
   "name": "python",
   "nbconvert_exporter": "python",
   "pygments_lexer": "ipython3",
   "version": "3.8.3"
  }
 },
 "nbformat": 4,
 "nbformat_minor": 2
}
