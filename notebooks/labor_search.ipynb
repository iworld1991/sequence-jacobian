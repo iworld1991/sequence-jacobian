{
 "cells": [
  {
   "cell_type": "markdown",
   "metadata": {},
   "source": [
    "# Tutorial 5: Labor search\n",
    "\n",
    "The most-requested feature of SSJ toolkit v0.1 has been support for time-varying transition matrices for exogenous states in HA blocks. This is needed, for example, for models in which the probability of becoming unemployed varies with the business cycle. This feature is supported by HetBlocks in 1.0.0 and newer versions of the toolkit. In this notebook, we show how to implement it. "
   ]
  },
  {
   "cell_type": "code",
   "execution_count": 1,
   "metadata": {},
   "outputs": [],
   "source": [
    "import numpy as np\n",
    "import matplotlib.pyplot as plt"
   ]
  },
  {
   "cell_type": "markdown",
   "metadata": {},
   "source": [
    "## 1 Model setup\n",
    "\n",
    "Consider a simple incomplete markets model with unemployment risk. The state variables are \n",
    "- employment status $s \\in \\{E, U\\}$\n",
    "- labor productivity $e \\in \\{e_1, \\dots, e_m\\}$\n",
    "- liquid assets $a \\in [\\underline{a}, \\infty)$ \n",
    "\n",
    "Employment status matters for income. Employed workers earn wage $w_t e$, while unemployed workers receive benefits $b e.$ Let $y_t(s, e)$ denote this non-financial income.\n",
    "\n",
    "From the workers' perspective, employment status evolves exogenously. An employed worker may lose her job with probability $\\sigma_t$. An unemployed worker may find a job with probability $f_t.$ Let $\\Pi_t^s$ denote the Markov matrix associated with state $s$. Of course, these transition probabilities may be determined endogenously outside the HetBlock, e.g. in a search and matching block.\n",
    "\n",
    "The Bellman equation is\n",
    "$$\n",
    "\\begin{align*}\n",
    "V_t(s, e, a_{-}) = \\max_{c, a} &\\left\\{\\frac{c^{1-\\sigma}}{1-\\sigma} + \\beta \\mathbb{E}_t\\left[V_{t+1}(s', e', a)|s, e \\right] \\right\\}\n",
    "\\\\\n",
    "c + a &= (1 + r_t)a_{-} + y_t(s, e)\n",
    "\\\\\n",
    "a &\\geq \\underline{a}\n",
    "\\end{align*}\n",
    "$$"
   ]
  },
  {
   "cell_type": "markdown",
   "metadata": {},
   "source": [
    "## 2 Set up HA block\n",
    "\n",
    "Starting in versio 1.0.0, HetBlocks support an arbitrary number of discrete exogenous state variables. The only restriction is on timing. We assume that when agents choose their endogenous state(s) (in this case assets $a$), all discrete shocks have already been resolved. The Bellman equation reflects this timing assumption. The relevant state is `(s, e, a_{-})`, i.e. `(s, e)` are from the current period, while `a_{-}` is from last period.\n",
    "\n",
    "Some specific assumption on timing is necessary for the HetBlock to know how to take expectations with respect to exogenous states (backward iteration) and how to construct the law of motion for the distribution (forward iteration). The one we chose (discrete shocks before decisions) is the most common in the macro models.\n",
    "\n",
    "In this paradigm, the HA problem we're dealing with is just a special case of SIM model that we used in the Krusell-Smith model. Compared to `sequence_jacobian/examples/hetblocks/household_sim`, we just need to make 3 small changes.\n",
    "1. Make sure that numpy expressions work for 3-dimensional arrays (state space is `(s, e, a)` and not `(e, a)`).\n",
    "2. Provide names of `exogenous` Markov matrices in *chronological order*.\n",
    "3. Write hetinput function that maps job-finding and separation rates into the Markov matrix $\\Pi_t^s$.\n",
    "\n",
    "Once this is done. Everything will work as expected. We can shock and compute Jacobians with respect to $f_t$ and so on. "
   ]
  },
  {
   "cell_type": "markdown",
   "metadata": {},
   "source": [
    "#### Step 1: hetinputs "
   ]
  },
  {
   "cell_type": "code",
   "execution_count": 2,
   "metadata": {},
   "outputs": [],
   "source": [
    "from sequence_jacobian import markov_rouwenhorst, agrid\n",
    "\n",
    "def make_grid(rho_e, sd_e, nE, amin, amax, nA):\n",
    "    e_grid, _, Pi_e = markov_rouwenhorst(rho=rho_e, sigma=sd_e, N=nE)\n",
    "    a_grid = agrid(amin=amin, amax=amax, n=nA)\n",
    "    return e_grid, Pi_e, a_grid\n",
    "\n",
    "\n",
    "def search_frictions(f, s):\n",
    "    Pi_s = np.vstack(([1 - s, s], [f, 1 - f]))\n",
    "    return Pi_s\n",
    "\n",
    "\n",
    "def labor_income(e_grid, w, b):\n",
    "    y = np.vstack((w * e_grid, b * e_grid))\n",
    "    return y "
   ]
  },
  {
   "cell_type": "markdown",
   "metadata": {},
   "source": [
    "#### Step 2: core HA block"
   ]
  },
  {
   "cell_type": "code",
   "execution_count": 3,
   "metadata": {},
   "outputs": [],
   "source": [
    "from sequence_jacobian import het, interpolate_y\n",
    "\n",
    "def household_init(a_grid, y, r, eis):\n",
    "    c = np.maximum(1e-8, y[..., np.newaxis] + np.maximum(r, 0.04) * a_grid)\n",
    "    Va = (1 + r) * (c ** (-1 / eis))\n",
    "    return Va\n",
    "\n",
    "@het(exogenous=['Pi_s', 'Pi_e'], policy='a', backward='Va', backward_init=household_init)\n",
    "def household(Va_p, a_grid, y, r, beta, eis):\n",
    "    c_nextgrid = (beta * Va_p) ** (-eis)\n",
    "    coh = (1 + r) * a_grid + y[..., np.newaxis]\n",
    "    a = interpolate_y(c_nextgrid + a_grid, coh, a_grid)  # (x, xq, y)\n",
    "    a = np.maximum(a, a_grid[0]) \n",
    "    c = coh - a\n",
    "    uc = c ** (-1 / eis)\n",
    "    Va = (1 + r) * uc\n",
    "\n",
    "    return Va, a, c"
   ]
  },
  {
   "cell_type": "markdown",
   "metadata": {},
   "source": [
    "#### Step 4: hetoutputs\n",
    "\n",
    "Let's report the unemployment rate."
   ]
  },
  {
   "cell_type": "code",
   "execution_count": 4,
   "metadata": {},
   "outputs": [],
   "source": [
    "def unemployment(c):\n",
    "    u = np.zeros_like(c)\n",
    "    u[1, ...] = 1.0\n",
    "    return u"
   ]
  },
  {
   "cell_type": "markdown",
   "metadata": {},
   "source": [
    "#### Step 4: assemble HA block"
   ]
  },
  {
   "cell_type": "code",
   "execution_count": 5,
   "metadata": {},
   "outputs": [
    {
     "name": "stdout",
     "output_type": "stream",
     "text": [
      "<HetBlock 'household' with hetinput 'search_frictions_labor_income' and with hetoutput `unemployment'>\n",
      "Inputs: ['r', 'beta', 'eis', 'rho_e', 'sd_e', 'nE', 'amin', 'amax', 'nA', 'f', 's', 'w', 'b']\n",
      "Macro outputs: ['A', 'C', 'U']\n",
      "Micro outputs: ['D', 'Dbeg', 'Pi_s', 'Pi_e', 'Va', 'a', 'c', 'u', 'e_grid', 'a_grid', 'y']\n"
     ]
    }
   ],
   "source": [
    "hh = household.add_hetinputs([make_grid, search_frictions, labor_income])\n",
    "hh = hh.add_hetoutputs([unemployment])\n",
    "\n",
    "print(hh)\n",
    "print(f'Inputs: {hh.inputs}')\n",
    "print(f'Macro outputs: {hh.outputs}')\n",
    "print(f'Micro outputs: {hh.internals}')"
   ]
  },
  {
   "cell_type": "markdown",
   "metadata": {},
   "source": [
    "## 3 Use HA block\n",
    "\n",
    "Let's consider a baseline calibration and a shock to the separation rate."
   ]
  },
  {
   "cell_type": "code",
   "execution_count": 6,
   "metadata": {},
   "outputs": [],
   "source": [
    "calibration = dict(beta=0.95, r=0.01, eis=0.5, f=0.4, s=0.1, w=1., b=0.5,\n",
    "                   rho_e=0.95, sd_e=0.5, nE=5, amin=0., amax=50, nA=100) \n",
    "\n",
    "ss = hh.steady_state(calibration)"
   ]
  },
  {
   "cell_type": "markdown",
   "metadata": {},
   "source": [
    "Let's plot consumption function of worker with average productivity in employment vs unemployment."
   ]
  },
  {
   "cell_type": "code",
   "execution_count": 7,
   "metadata": {},
   "outputs": [
    {
     "data": {
      "image/png": "[encoded data removed]",
      "text/plain": [
       "<Figure size 432x288 with 1 Axes>"
      ]
     },
     "metadata": {
      "needs_background": "light"
     },
     "output_type": "display_data"
    }
   ],
   "source": [
    "plt.plot(ss.internals['household']['a_grid'], ss.internals['household']['c'][0, 3, :], label='employed')\n",
    "plt.plot(ss.internals['household']['a_grid'], ss.internals['household']['c'][1, 3, :], label='unemployed')\n",
    "plt.xlabel('Assets')\n",
    "plt.ylabel('Consumption')\n",
    "plt.legend()\n",
    "plt.tight_layout()\n",
    "plt.show()"
   ]
  },
  {
   "cell_type": "markdown",
   "metadata": {},
   "source": [
    "Consider the impulse responses of consumption end employment to a persistent rise in the separation rate."
   ]
  },
  {
   "cell_type": "code",
   "execution_count": 8,
   "metadata": {},
   "outputs": [],
   "source": [
    "td = hh.impulse_linear(ss, {'s': 0.6 ** np.arange(50)})"
   ]
  },
  {
   "cell_type": "code",
   "execution_count": 9,
   "metadata": {},
   "outputs": [
    {
     "data": {
      "image/png": "[encoded data removed]",
      "text/plain": [
       "<Figure size 576x288 with 2 Axes>"
      ]
     },
     "metadata": {
      "needs_background": "light"
     },
     "output_type": "display_data"
    }
   ],
   "source": [
    "fig, axes = plt.subplots(1, 2, figsize=(8, 4))\n",
    "ax = axes.flatten()\n",
    "\n",
    "ax[0].plot(td['s'], color='black', label='separation rate')\n",
    "ax[0].axhline(0, color='gray', linestyle=':')\n",
    "ax[0].set_title('Shock')\n",
    "ax[0].set_ylabel('deviation from ss')\n",
    "ax[0].legend(frameon=False)\n",
    "\n",
    "ax[1].plot(td['C'], label='consumption')\n",
    "ax[1].plot(td['U'], label='unemployment rate')\n",
    "ax[1].axhline(0, color='gray', linestyle=':')\n",
    "ax[1].legend(frameon=False)\n",
    "ax[1].set_title('Impulse Responses')\n",
    "plt.tight_layout()\n",
    "plt.show()"
   ]
  }
 ],
 "metadata": {
  "interpreter": {
   "hash": "df77b33bd3f53ce35917041dc902a6ccbdef1b9ffcd7a0c340a26560a2df0968"
  },
  "kernelspec": {
   "display_name": "Python 3.8.3 64-bit ('base': conda)",
   "language": "python",
   "name": "python3"
  },
  "language_info": {
   "codemirror_mode": {
    "name": "ipython",
    "version": 3
   },
   "file_extension": ".py",
   "mimetype": "text/x-python",
   "name": "python",
   "nbconvert_exporter": "python",
   "pygments_lexer": "ipython3",
   "version": "3.8.3"
  },
  "orig_nbformat": 4
 },
 "nbformat": 4,
 "nbformat_minor": 2
}
